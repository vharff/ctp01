{
 "cells": [
  {
   "cell_type": "markdown",
   "id": "ab7eb409",
   "metadata": {},
   "source": [
    "\n",
    "# Premier TP – Rappels et exercices en Python\n",
    "**Objectifs** : Ce TP vise à rappeler les bases de Python et à les appliquer à travers des exercices de **statistiques**, de **visualisation graphique** et de **manipulation de données**.\n",
    "\n",
    "---\n",
    "##  Python\n",
    "Python est un langage de programmation polyvalent qui permet de créer et exécuter des algorithmes, qu’ils soient personnalisés ou issus de bibliothèques existantes (via des [bibliothèques logicielles](https://fr.wikipedia.org/wiki/Biblioth%C3%A8que_logicielle)). Gratuit et open source ([logiciel libre](https://fr.wikipedia.org/wiki/Logiciel_libre)), il est accessible à tous.\n",
    "\n",
    "**Version recommandée** : Nous utiliserons **Python 3** dans ce TP. \n",
    "\n",
    "**Outils suggérés pour l’installation** :\n",
    "Vous pouvez utiliser les outils suivant sur vos ordinateurs personnels :\n",
    "- [Anaconda](https://www.anaconda.com/download) (distribution complète incluant Jupyter et de nombreuses bibliothèques scientifiques).\n",
    "- [VSCode](https://code.visualstudio.com)\n",
    "\n",
    "Les ordinateurs des salles de TP disposent des outils nécessaires pour ces travaux pratiques.\n",
    "\n",
    "**Remarque** : Python étant un langage développé en anglais, les noms des fonctions et commandes en découlent. Une maîtrise basique de l’anglais technique est donc utile.\n",
    "\n",
    "## Utilisation de Python pour ce TP\n",
    "\n",
    "### Environnements de travail\n",
    "Python dispose d’un interpréteur en ligne de commande (`python`), mais nous privilégierons les notebooks Jupyter pour ce TP. Ceux-ci reproduisent un environnement similaire à *Mathematica*, avec une organisation claire :\n",
    "- Cellules de code : Pour exécuter des scripts (calculs, graphiques, etc.).\n",
    "- Cellules Markdown  : Pour rédiger des explications ou des commentaires (syntaxe [Markdown](https://jupyterbook.org/en/stable/reference/cheatsheet.html)).\n",
    "- Ordre d’exécution flexible : **Attention** ! Cette liberté est une source fréquente d’erreurs et de non-reproductibilité des résultats. **Vérifiez toujours l’ordre logique des cellules et de leur execution.**\n",
    "\n",
    "**Lancement d’un notebook** :\n",
    "- Ouvrez un terminal et tapez `jupyter-notebook`.\n",
    "- Les fichiers ont l’extension `.ipynb` (ex: `mon_TP.ipynb`).\n",
    "\n",
    "**Alternative** : Pour un éditeur plus complet, installez [VS Code](https://code.visualstudio.com/) (gratuit et compatible avec les notebooks).\n",
    "\n",
    "\n",
    "## Bonnes pratiques en Python (et avec les notebooks)\n",
    "Python est un langage puissant mais permissif : une mauvaise utilisation peut nuire à la clarté du code ou introduire des bugs. Voici quelques conseils  :\n",
    "\n",
    "1. **Importation des modules** :\n",
    "   - **À éviter** : `from module import *` (risque de **conflits de noms** avec vos variables locales).\n",
    "   - **À privilégier** :\n",
    "     ```python\n",
    "     import module as mod  # Ex: import numpy as np\n",
    "     mod.fonction()        # Utilisation explicite (ex: np.mean())\n",
    "     ```\n",
    "   *→ Cela permet de tracer l’origine des fonctions et d’éviter les ambiguïtés.*\n",
    "\n",
    "2. **Gestion des variables globales** :\n",
    "   - **À éviter** : Modifier une variable globale et réévaluer une cellule sans contrôle.\n",
    "   - **À privilégier** :\n",
    "     - Encapsuler votre code dans des fonctions (ex: `def calculer_moyenne(data):`).\n",
    "     - Appeler ces fonctions dans de nouvelles cellules avec les nouvelles valeurs à tester.\n",
    "   *→ Gain en reproductibilité et en lisibilité.*\n",
    "\n",
    "3. **Organisation du code** :\n",
    "   - Découpez votre travail en petites cellules :\n",
    "     - Une cellule = *une fonction ou une tâche spécifique* (ex: nettoyage des données, calcul d’une statistique).\n",
    "     - Une autre cellule = *tests ou applications* de cette fonction.\n",
    "   *→ Évite les réinitialisations coûteuses et les redéfinitions inutiles.*\n",
    "\n"
   ]
  },
  {
   "cell_type": "markdown",
   "id": "08df29c6",
   "metadata": {},
   "source": [
    "## Première partie : Intégration Monte Carlo\n",
    "Pour commencer, nous allons implémenter une méthode classique d’intégration par Monte Carlo. Cet exercice permettra de manipuler Python tout en appliquant des concepts vus en cours.\n",
    "\n",
    "**Objectif général** : Dans ce TP (et les suivants), les exercices devront combiner travail théorique (calculs) et implémentation pratique.\n",
    "\n",
    "---\n",
    "### Rappels théoriques\n",
    "Pour les questions de calcul, nous utiliserons les notations suivantes :\n",
    "- **Espérance mathématique** : $E[f(X)]=<f(X)>$ pour une variable aléatoire $X$ et une fonction $f$. On notera dans certain cas $<f(X)>_{X\\simP}$ pour rappeler que la loi de $X$ est $P$. \n",
    "- **Relation clé** : Pour deux variables aléatoires $X$ et $Y$, on a :\n",
    "  $$<XY> = <X><Y> + \\text{Cov}(X, Y)$$\n",
    "  *Si $X$ et $Y$ sont **indépendantes**, alors $\\text{Cov}(X, Y) = 0$.*\n",
    "- **Moments centrés** On notera ainsi les moments centrés $E[(X-E[X])^n]=<X^n>_c$\n",
    "\n",
    "**Outils Python** :\n",
    "- **`numpy`** : Pour les tableaux numériques et les opérations mathématiques.\n",
    "- **`numpy.random`** : Pour les tirages aléatoires.\n",
    "- **`matplotlib`** : Pour les visualisations graphiques.\n",
    "\n",
    "**Précision des et affichage des résultats** (ces recommandations sont toujours valables !):\n",
    "- **Troncature des valeurs numériques** : Si possible, suivre les recommandations du *Particle Data Group* ([page 13 du Booklet](https://pdg.lbl.gov/2011/reviews/rpp2011-rev-rpp-intro.pdf)).\n",
    "- **Présentation des graphiques** :\n",
    "  - **Barres d’erreur** : Dans la mesure du possible les inclure pour visualiser l’incertitude.\n",
    "  - **Choix des axes** : Adapter les échelles pour une lecture claire.\n",
    "  - **Comparaisons** : Utiliser des différences ou rapports pour mettre en évidence les dynamiques fortes.\n",
    "\n",
    "---\n",
    "### Exercice : Intégrale Monte Carlo du volume d’une ellipse en *n* dimensions\n",
    "La méthode Monte Carlo permet d’estimer le volume d’une figure en tirant des points aléatoires dans un volume englobant et en corrigeant par la fraction de points inclus dans la figure.\n",
    "\n",
    "**Formulation mathématique** :\n",
    "Soit $\\Omega$ un volume et $\\mathbb{1}^\\Omega(x)$ son **indicatrice** (valant $1$ si $x \\in \\Omega$, $0$ sinon). Le volume $V^\\Omega$ s’écrit :\n",
    "$$\n",
    "V^\\Omega = V \\times <\\mathbb{1}^\\Omega(x)>_{x \\sim U} = V \\times \\int \\mathbb{1}^\\Omega(x) \\, dU(x)\n",
    "$$\n",
    "où $U$ est une **distribution uniforme** sur un volume englobant de volume $V$. On rappelle que $<1>_{x~U}=\\int  dU(x) = 1$.\n",
    "\n",
    "**Approximation par Monte Carlo** :\n",
    "Pour $N$ échantillons tirés selon $U$, on approche $V^\\Omega$ par :\n",
    "$$\n",
    "V^\\Omega_N = \\frac{V}{N} \\sum_{i=1}^N \\mathbb{1}^\\Omega(x_i)\n",
    "$$\n",
    "*Remarque* : $V^\\Omega_N$ est un estimateur de  $V^\\Omega$.\n",
    "\n",
    "---\n",
    "### Questions et implémentation\n",
    "1. **Vérification théorique** :\n",
    "   Montrer par le calcul que $V^\\Omega_N$ est un estimateur sans biais de $V^\\Omega$, c’est-à-dire que :\n",
    "   $$<V^\\Omega_N> = V^\\Omega$$\n",
    "\n",
    "2. **Implémentation en Python** :\n",
    "   Écrire une fonction `volume_ellipse` qui prend en entrée :\n",
    "   - Un tableau `numpy` de taille `m` (demi-axes de l’ellipse en *m* dimensions).\n",
    "   - Un entier `N` (nombre de points aléatoires).\n",
    "   *Retourne* : Le volume estimé de l’ellipse.\n",
    "   *Conseil* : Créer une fonction auxiliaire `indicatrice` qui, pour un tableau de taille `[N, m]` (coordonnées de $N$ points en *m* dimensions), retourne une liste de $0$ ou $1$ (selon l’appartenance à l’ellipse).\n",
    "\n",
    "3. **Test en 2D** :\n",
    "   - Choisir un grand axe et un petit axe (ex: $a=3$, $b=2$).\n",
    "   - Tester la fonction avec $N=1000$ et comparer au résultat théorique ($\\pi ab$).\n",
    "   - L’estimation est-elle exacte ? Pourquoi ?\n",
    "\n",
    "4. **Étude statistique** :\n",
    "   - Réaliser $L=500$ estimations de l’aire de la même ellipse.\n",
    "   - Tracer un histogramme des résultats.\n",
    "   - Forme attendue : Justifier la distribution observée pour $V^\\Omega_{1000}$.\n",
    "\n",
    "\n",
    "5. **Écart-type et probabilité** :\n",
    "   - Calculer la probabilité que $V^\\Omega_{1000}$ s’écarte de la valeur vraie de plus d’un écart-type ($\\sigma$).\n",
    "   - Estimer cette probabilité à partir des $500$ simulations et comparer au résultat théorique.\n",
    "\n",
    "6. **Variance de l’estimateur** :\n",
    "   - Évaluer la variance de $V^\\Omega_{1000}$.\n",
    "   - Montrer que l’estimateur naïf :\n",
    "     $$\n",
    "     \\text{Var}_{\\text{naïf}}(V^\\Omega_{1000}) = \\frac{1}{L} \\sum_{j=1}^L (V^\\Omega_{1000,j} - \\bar{V^\\Omega_{1000}})^2\n",
    "     $$\n",
    "     est biaisé (où $\\bar{V^\\Omega_{1000}}$ est la moyenne empirique).\n",
    "   - Proposer un estimateur non biaisé et vérifier l’effet du biais en calculant la variance pour $L=10, 50, 100, 200$.\n",
    "   - Visualisation : Tracer les valeurs et le biais attendu sur un même graphique.\n",
    "\n",
    "7. **Comportement asymptotique** :\n",
    "   - D'après la théorie, comment la variance de $V^\\Omega_N$ décroît-elle avec $N$ ?\n",
    "   - Vérification :\n",
    "     - Estimer l’aire de l’ellipse pour différentes valeurs de $N$.\n",
    "     - Tracer la variance en fonction de $N$ et comparer au comportement théorique.\n",
    "     - *Précision* : Pour $N$ grand, l’erreur sur la variance empirique est $\\sigma/\\sqrt{2N}$ (où $\\sigma$ est l’écart-type). Ajouter des barres d’erreur au graphique.\n",
    "\n",
    "8. **Précision et nombre de tirages** :\n",
    "   - Combien de tirages $N$ sont nécessaires pour une précision de 1% ? 0.1% ?\n",
    "   - Calculer le volume d’une ellipse en 10 dimensions avec des demi-axes `[1, 3, 2, 5, 6, 1, 2, 0.5, 2, 4]`.\n",
    "\n"
   ]
  },
  {
   "cell_type": "markdown",
   "id": "f54269c0",
   "metadata": {},
   "source": [
    "---\n",
    "## Deuxième partie Transformée de Fourier\n",
    "\n",
    "\n",
    "Dans cette partie, on aborde quelques aspects de la transfomrée de Fourier et de son utilité pour l'astrophysique. C'est une application de la première partie du second cours.\n"
   ]
  },
  {
   "cell_type": "code",
   "execution_count": 9,
   "id": "aa576114",
   "metadata": {},
   "outputs": [],
   "source": [
    "import numpy as np\n",
    "import matplotlib.pyplot as plt"
   ]
  },
  {
   "cell_type": "markdown",
   "id": "1d9da503",
   "metadata": {},
   "source": [
    "### Echantillonnage\n",
    "\n",
    "1. Ecrire une fonction python `generateur_de_fonction` ayant comme paramètre $\\nu$, une fréquence, et qui renvoie la fonction $\\sin (2\\pi \\nu \\times t)$ où $t$ est la variable. \n",
    "2. Pour $\\nu = 0.5\\; s^{-1}$ , définir à l'aide du générateur précédent une fonction `y` de paramètre $t$ qui renvoie $y(t) = \\sin (2\\pi \\nu\\times t)$. \n",
    "3. Echantillonner $y$ sur $t\\in [0,20]$ s  avec une période d'échantillonnage $T_e = 0.2$ s et tracer `yech` en fonction de `tech`.\n"
   ]
  },
  {
   "cell_type": "markdown",
   "id": "a131dd2f",
   "metadata": {},
   "source": [
    "### FFT\n",
    "1. Executer np.fft.fft sur le tableau `yech` pour obtenir la transformée de Fourier discrète `tfd`, que l'on prendra soin de normaliser par `len(yech)` (NB: sans mot-clé de normalisation \"norm\", np.fft.fft renvoie un tableau non normalisé. Si on utilise \"norm = 'ortho'\", la tf est divisée par \\sqrt(n). Si on utilise \"norm = 'forward'\", la tf est divisée par n.)\n",
    "2. Tracer les parties réelles et imaginaires `tfd.real` et `tfd.imag`, ainsi que la puissance `np.abs(tdf)**2` et commentez ce que vous voyez : pourquoi cette symétrie ? où est la fréquence minimale, maximale et combien valent ces fréquences, combien ce tableau a-t-il d'éléments ?\n",
    "3. Construire à la main le tableau de fréquences correspondant, comparer au résulat de `np.fft.fftfreq(len(tfd), d = tech[1]-tech[0])` et tracer la densité spectrale de puissance en fonction de la fréquence."
   ]
  },
  {
   "cell_type": "markdown",
   "id": "e0cb7ce4",
   "metadata": {},
   "source": [
    "La fonction `get_fft_pow` suivante prend pour arguments deux tableaux sembables à `tech` et `yech`, et renvoie deux tableaux : les fréquences triés par ordre croissant et la densité spectrale de puissance |TF(yech)|$^2$. \n",
    "Notez l'utilisation  des routines np.fft.fft, np.fft.fftfreq, (et `np.fft.fftshift` pour réordonner les tableaux)."
   ]
  },
  {
   "cell_type": "code",
   "execution_count": 12,
   "id": "f5abfef9",
   "metadata": {},
   "outputs": [],
   "source": [
    "def get_fft_pow(t, s, norm = 'forward'):\n",
    "  \n",
    "    timestep = t[1]-t[0]\n",
    "    freq = np.fft.fftfreq(len(s), d = timestep)\n",
    "    tf = np.fft.fft(s, norm = norm)     # norm = 'forward' =>  tf *= 1/len(t) ; norm = 'ortho' => tf *= 1/sqrt(len(t))\n",
    "    freq = np.fft.fftshift(freq)\n",
    "    tf = np.fft.fftshift(tf)\n",
    "    tfpow = np.abs(tf)**2  \n",
    "\n",
    "    return (freq, tfpow)"
   ]
  },
  {
   "cell_type": "markdown",
   "id": "fce56ad2",
   "metadata": {},
   "source": [
    "Utilisation de cette fonction:"
   ]
  },
  {
   "cell_type": "code",
   "execution_count": null,
   "id": "e0aceb24",
   "metadata": {},
   "outputs": [],
   "source": [
    "f_ord, tfd_ord = get_fft_pow(tech, yech)\n",
    "plt.plot(f_ord,tfd_ord)"
   ]
  },
  {
   "cell_type": "markdown",
   "id": "630a481e",
   "metadata": {},
   "source": [
    "4. Avec la TF inverse (`np.fft.ifft`), reconstruire le signal initial.\n",
    "5. Vérifier que la TF inverse de `tfd` $\\times \\exp(i2\\pi \\nu t_0)$ où $t_0 = 1 s$ donne bien un signal décalé temporellement de $t_0$. Cette opération a-t-elle agi sur l'amplitude ou la phase de `tdf` ?\n"
   ]
  },
  {
   "cell_type": "markdown",
   "id": "fc807d84",
   "metadata": {},
   "source": [
    "6. Tracer le signal, et la TF de la fonction `ydouble` suivante échantillonnée sur [0,20] avec Te = 0.2:"
   ]
  },
  {
   "cell_type": "code",
   "execution_count": 15,
   "id": "fd62e245",
   "metadata": {},
   "outputs": [],
   "source": [
    "ydouble = lambda x:np.sin(2*np.pi*0.5*x) + 0.5* np.cos(2*np.pi*0.3*x)"
   ]
  },
  {
   "cell_type": "markdown",
   "id": "d27c4022",
   "metadata": {},
   "source": [
    "Reconstruction : Sous réserve que l'échantillonnage soit suffisamment bon, le signal original peut être reconstruit à une résolution arbitrairement élevée à partir du signal échantillonné :\n"
   ]
  },
  {
   "cell_type": "code",
   "execution_count": null,
   "id": "24b84154",
   "metadata": {},
   "outputs": [],
   "source": [
    "def enhance(tech, yech, tout):\n",
    "    ''' Reconstruit le signal yech(tech) à la résolution de tout avec une somme de sinus cardinaux.\n",
    "    Hypothèse sous-jacente : la fréquence d'échantillonage est supérieure au double de la fréquence \n",
    "    de coupure du signal (théorème de Nyquist-Shannon) '''\n",
    "    \n",
    "    yout = np.zeros_like(tout)\n",
    "    Te = tech[1] - tech[0]\n",
    "    for i in range(len(yech)):\n",
    "        yout += yech[i] * np.sinc((tout-i*Te)/Te)\n",
    "    return yout\n",
    "\n",
    "# demo:\n",
    "tpur = np.arange(0,20,0.01)\n",
    "ypur = ydouble(tpur)\n",
    "\n",
    "# signal échantillonné\n",
    "Te = 0.8\n",
    "tech = np.arange(0,20,Te)\n",
    "yech = ydouble(tech)\n",
    "\n",
    "# signal reconstruit à plus haute résolution\n",
    "tout = np.arange(0,20,Te/10)\n",
    "yout = enhance(tech, yech, tout)\n",
    "\n",
    "plt.figure(figsize=(20,12))\n",
    "plt.plot(tpur, ypur, label = 'signal \"pur\"')\n",
    "plt.plot(tech, yech, 'o-', label = 'signal echantilloné')\n",
    "plt.plot(tout, yout, label = 'signal reconstruit à une plus haute résolution que le signal échantilloné')\n",
    "plt.legend()\n",
    "plt.show()"
   ]
  },
  {
   "cell_type": "markdown",
   "id": "53aa36b0",
   "metadata": {},
   "source": [
    "### Théorème de Nyquist-Shannon\n",
    "7. Refaire les opérations précédentes (échantillonnage, TF, examen de la TF) avec une sinusoide de fréquence $\\nu$ = 0.5, pour $T_e$ valant successivement 0.5, 1, 1.5, et 3. Que constate-t-on sur les fréquences mesurées dans la TFD si $\\nu_e= 1/T_e$ devient inférieur au double de la fréquence $\\nu=0.5$ Hz du signal ?\n"
   ]
  },
  {
   "cell_type": "markdown",
   "id": "78152664",
   "metadata": {},
   "source": [
    "# Vitesses radiales\n",
    "\n",
    "On veut analyser la série temporelle contenue dans le fichier `radial.npz` qui représente la vitesse radiale mesurées sur une étoile. "
   ]
  },
  {
   "cell_type": "markdown",
   "id": "6de0d3b3",
   "metadata": {},
   "source": [
    "1. Lire le fichier pour obtenir les variables `t` et `v` . Le temps est en jours et la vitesse en m/s.\n",
    "2. Tracer le signal\n",
    "3. Calculer et observer sa TFD. Que constate-t-on ?\n",
    "5. Quelles sont les fréquences cachées dans ce signal ?\n",
    "4. Filter le signal en mettant à zéro les éléments de la TFD en dessous d'une certaine puissance\n",
    "6. Reconstruire le signal filtré\n",
    "7. En utilisant une somme de sinus cardianaux pondérés par les échantillons du signal reconstruit, tracer avec une bonne résolution temporelle (échantillonnage en temps de 0.02 s) la fonction correspondant au signal filtré, et comparer cette reconstruction au signal pur original (tableaux `t_pur` et `signal_pur` du fichier `radial_npz`)."
   ]
  },
  {
   "cell_type": "code",
   "execution_count": null,
   "id": "dd7abd8d",
   "metadata": {},
   "outputs": [],
   "source": []
  }
 ],
 "metadata": {
  "kernelspec": {
   "display_name": "Python 3",
   "language": "python",
   "name": "python3"
  },
  "language_info": {
   "codemirror_mode": {
    "name": "ipython",
    "version": 3
   },
   "file_extension": ".py",
   "mimetype": "text/x-python",
   "name": "python",
   "nbconvert_exporter": "python",
   "pygments_lexer": "ipython3",
   "version": "3.13.2"
  }
 },
 "nbformat": 4,
 "nbformat_minor": 5
}
